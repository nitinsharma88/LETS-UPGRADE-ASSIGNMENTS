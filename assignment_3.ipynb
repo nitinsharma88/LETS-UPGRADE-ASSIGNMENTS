{
  "nbformat": 4,
  "nbformat_minor": 0,
  "metadata": {
    "colab": {
      "name": "assignment 3.ipynb",
      "provenance": []
    },
    "kernelspec": {
      "name": "python3",
      "display_name": "Python 3"
    }
  },
  "cells": [
    {
      "cell_type": "markdown",
      "metadata": {
        "id": "xIdM7d7pc3cS"
      },
      "source": [
        "NAME- Nitin kumar sharma ,\n",
        "Email id - nitinsharma882000@gmail.com ,\n",
        "mobile number - 9873147995"
      ]
    },
    {
      "cell_type": "code",
      "metadata": {
        "id": "XzWCf6hddY0M",
        "outputId": "8d8c67af-acdf-42e0-8e95-a8d0329fd70f",
        "colab": {
          "base_uri": "https://localhost:8080/"
        }
      },
      "source": [
        "#ANSWER-1\n",
        "import numpy as np\n",
        "arr=np.arange(5, 50, 2)\n",
        "print(arr)"
      ],
      "execution_count": 5,
      "outputs": [
        {
          "output_type": "stream",
          "text": [
            "[ 5  7  9 11 13 15 17 19 21 23 25 27 29 31 33 35 37 39 41 43 45 47 49]\n"
          ],
          "name": "stdout"
        }
      ]
    },
    {
      "cell_type": "code",
      "metadata": {
        "id": "jaFxeras5ftm",
        "outputId": "55ced3d9-7cb1-4631-a557-27e1333c1b73",
        "colab": {
          "base_uri": "https://localhost:8080/"
        }
      },
      "source": [
        "#ANSWER -2\n",
        "import numpy as np \n",
        "l = [] \n",
        "n = int(input(\"Enter number of elements : \"))  \n",
        "for i in range(0, n): \n",
        "\tele = int(input()) \n",
        "\tl.append(ele) # adding the element \n",
        "print(l) \n",
        "\n",
        "s = [] \n",
        "n = int(input(\"Enter number of elements : \"))  \n",
        "for i in range(0, n): \n",
        "\tele = int(input()) \n",
        "\ts.append(ele) # adding the element \n",
        "print(s) \n",
        "\n",
        "t=l+s\n",
        "print (\"Concatenated list using + : \",t)"
      ],
      "execution_count": 13,
      "outputs": [
        {
          "output_type": "stream",
          "text": [
            "Enter number of elements : 4\n",
            "1\n",
            "2\n",
            "3\n",
            "4\n",
            "[1, 2, 3, 4]\n",
            "Enter number of elements : 5\n",
            "2\n",
            "3\n",
            "4\n",
            "5\n",
            "6\n",
            "[2, 3, 4, 5, 6]\n",
            "Concatenated list using + :  [1, 2, 3, 4, 2, 3, 4, 5, 6]\n"
          ],
          "name": "stdout"
        }
      ]
    },
    {
      "cell_type": "code",
      "metadata": {
        "id": "ycArtuXg50Bx"
      },
      "source": [
        "#ANSER -3\n",
        "import numpy as np\n",
        "a = np.array([[1,2],[1,2]])\n",
        "a.ndim\n",
        "a.shape\n",
        "np.shape(a)\n",
        "np.info(a)\n"
      ],
      "execution_count": 16,
      "outputs": []
    },
    {
      "cell_type": "code",
      "metadata": {
        "id": "wHea4hQ2FxrZ",
        "outputId": "70d4c956-21d3-4529-f3d2-89d4f0f6d253",
        "colab": {
          "base_uri": "https://localhost:8080/"
        }
      },
      "source": [
        "#ANSWER -4\n",
        "# create 1D numpy array from a list\n",
        "import numpy as np\n",
        "arr = np.array([0, 1, 2, 3, 4, 5, 6, 7, 8, 9])\n",
        "print('1D Numpy array:')\n",
        "print(arr)\n",
        "\n",
        "\n",
        "\n",
        "arr_2d = np.reshape(arr, (2, 5))\n",
        "print(arr_2d)\n"
      ],
      "execution_count": 23,
      "outputs": [
        {
          "output_type": "stream",
          "text": [
            "1D Numpy array:\n",
            "[0 1 2 3 4 5 6 7 8 9]\n",
            "[[0 1 2 3 4]\n",
            " [5 6 7 8 9]]\n"
          ],
          "name": "stdout"
        }
      ]
    },
    {
      "cell_type": "code",
      "metadata": {
        "id": "G2rynzbLHyCl",
        "outputId": "985e7d49-6006-49d9-d629-1d2b6c010cda",
        "colab": {
          "base_uri": "https://localhost:8080/"
        }
      },
      "source": [
        "#ANSWER -6\n",
        "# taking an input list \n",
        "input_list = [1, 2, 2, 5, 8, 4, 4, 8] \n",
        "  \n",
        "# taking an input list \n",
        "l1 = [] \n",
        "  \n",
        "# taking an counter \n",
        "count = 0\n",
        "  \n",
        "# travesing the array \n",
        "for item in input_list: \n",
        "    if item not in l1: \n",
        "        count += 1\n",
        "        l1.append(item) \n",
        "  \n",
        "# printing the output \n",
        "print(\"No of unique items are:\", count) "
      ],
      "execution_count": 24,
      "outputs": [
        {
          "output_type": "stream",
          "text": [
            "No of unique items are: 5\n"
          ],
          "name": "stdout"
        }
      ]
    },
    {
      "cell_type": "code",
      "metadata": {
        "id": "lI74s2KhGm2K"
      },
      "source": [
        ""
      ],
      "execution_count": null,
      "outputs": []
    }
  ]
}