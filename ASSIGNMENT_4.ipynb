{
  "nbformat": 4,
  "nbformat_minor": 0,
  "metadata": {
    "colab": {
      "name": "ASSIGNMENT -4.ipynb",
      "provenance": [],
      "collapsed_sections": []
    },
    "kernelspec": {
      "name": "python3",
      "display_name": "Python 3"
    }
  },
  "cells": [
    {
      "cell_type": "markdown",
      "metadata": {
        "id": "ADl4nodlOsGM"
      },
      "source": [
        "ASSIGNMENT -4  ,  \n",
        "NAME- Nitin kumar sharma  ,  \n",
        "Emiail id - nitinsharma882000@gmail.com  ,  \n",
        "mobile number- 9873147995"
      ]
    },
    {
      "cell_type": "code",
      "metadata": {
        "id": "9m8SsmixPD03",
        "outputId": "474a8109-1af1-4a40-e9f5-858b4d2ce01a",
        "colab": {
          "base_uri": "https://localhost:8080/"
        }
      },
      "source": [
        "#ANSWER -1\n",
        "import pandas as pd\n",
        "print(pd.__version__)"
      ],
      "execution_count": null,
      "outputs": [
        {
          "output_type": "stream",
          "text": [
            "1.1.4\n"
          ],
          "name": "stdout"
        }
      ]
    },
    {
      "cell_type": "code",
      "metadata": {
        "id": "H4JC6cafPbgn",
        "outputId": "a9a2f5c4-1a76-460d-df93-77977687cb01",
        "colab": {
          "base_uri": "https://localhost:8080/",
          "height": 238
        }
      },
      "source": [
        "#ANSWER - 2\n",
        "# importing the modules \n",
        "import numpy as np \n",
        "import pandas as pd \n",
        "  \n",
        "# creating an NumPy array \n",
        "array = np.array([10, 20, 1, 2,  \n",
        "                   3, 4, 5, 6, 7]) \n",
        "  \n",
        "# displaying the NumPy array \n",
        "print(\"Numpy array is :\") \n",
        "display(array) \n",
        "  \n",
        "# converting the NumPy array  \n",
        "# to a Pandas series \n",
        "series = pd.Series(array)  \n",
        "  \n",
        "# displaying the Pandas series \n",
        "print(\"Pandas Series : \") \n",
        "display(series)"
      ],
      "execution_count": null,
      "outputs": [
        {
          "output_type": "stream",
          "text": [
            "Numpy array is :\n"
          ],
          "name": "stdout"
        },
        {
          "output_type": "display_data",
          "data": {
            "text/plain": [
              "array([10, 20,  1,  2,  3,  4,  5,  6,  7])"
            ]
          },
          "metadata": {
            "tags": []
          }
        },
        {
          "output_type": "stream",
          "text": [
            "Pandas Series : \n"
          ],
          "name": "stdout"
        },
        {
          "output_type": "display_data",
          "data": {
            "text/plain": [
              "0    10\n",
              "1    20\n",
              "2     1\n",
              "3     2\n",
              "4     3\n",
              "5     4\n",
              "6     5\n",
              "7     6\n",
              "8     7\n",
              "dtype: int64"
            ]
          },
          "metadata": {
            "tags": []
          }
        }
      ]
    },
    {
      "cell_type": "code",
      "metadata": {
        "id": "FBYl3Ry_TJLH",
        "outputId": "8153ab10-491a-4754-c03e-e557568fc6db",
        "colab": {
          "base_uri": "https://localhost:8080/",
          "height": 173
        }
      },
      "source": [
        "# importing the pandas library as pd \n",
        "import pandas as pd \n",
        "  \n",
        "  \n",
        "# Creating the dataframe df \n",
        "df = pd.DataFrame({'Roll Number': ['20CSE29', '20CSE49', '20CSE36', '20CSE44'], \n",
        "                   'Name': ['aman', 'raman', 'Darshan', 'shubhangi'], \n",
        "                   'Marks In Percentage': [97, 90, 70, 82], \n",
        "                   'Grade': ['A', 'A', 'C', 'B'], \n",
        "                   'Subject': ['Physics', 'Physics', 'Physics', 'Physics']}) \n",
        "  \n",
        "# Printing the dataframe \n",
        "df"
      ],
      "execution_count": 5,
      "outputs": [
        {
          "output_type": "execute_result",
          "data": {
            "text/html": [
              "<div>\n",
              "<style scoped>\n",
              "    .dataframe tbody tr th:only-of-type {\n",
              "        vertical-align: middle;\n",
              "    }\n",
              "\n",
              "    .dataframe tbody tr th {\n",
              "        vertical-align: top;\n",
              "    }\n",
              "\n",
              "    .dataframe thead th {\n",
              "        text-align: right;\n",
              "    }\n",
              "</style>\n",
              "<table border=\"1\" class=\"dataframe\">\n",
              "  <thead>\n",
              "    <tr style=\"text-align: right;\">\n",
              "      <th></th>\n",
              "      <th>Roll Number</th>\n",
              "      <th>Name</th>\n",
              "      <th>Marks In Percentage</th>\n",
              "      <th>Grade</th>\n",
              "      <th>Subject</th>\n",
              "    </tr>\n",
              "  </thead>\n",
              "  <tbody>\n",
              "    <tr>\n",
              "      <th>0</th>\n",
              "      <td>20CSE29</td>\n",
              "      <td>aman</td>\n",
              "      <td>97</td>\n",
              "      <td>A</td>\n",
              "      <td>Physics</td>\n",
              "    </tr>\n",
              "    <tr>\n",
              "      <th>1</th>\n",
              "      <td>20CSE49</td>\n",
              "      <td>raman</td>\n",
              "      <td>90</td>\n",
              "      <td>A</td>\n",
              "      <td>Physics</td>\n",
              "    </tr>\n",
              "    <tr>\n",
              "      <th>2</th>\n",
              "      <td>20CSE36</td>\n",
              "      <td>Darshan</td>\n",
              "      <td>70</td>\n",
              "      <td>C</td>\n",
              "      <td>Physics</td>\n",
              "    </tr>\n",
              "    <tr>\n",
              "      <th>3</th>\n",
              "      <td>20CSE44</td>\n",
              "      <td>shubhangi</td>\n",
              "      <td>82</td>\n",
              "      <td>B</td>\n",
              "      <td>Physics</td>\n",
              "    </tr>\n",
              "  </tbody>\n",
              "</table>\n",
              "</div>"
            ],
            "text/plain": [
              "  Roll Number       Name  Marks In Percentage Grade  Subject\n",
              "0     20CSE29       aman                   97     A  Physics\n",
              "1     20CSE49      raman                   90     A  Physics\n",
              "2     20CSE36    Darshan                   70     C  Physics\n",
              "3     20CSE44  shubhangi                   82     B  Physics"
            ]
          },
          "metadata": {
            "tags": []
          },
          "execution_count": 5
        }
      ]
    },
    {
      "cell_type": "code",
      "metadata": {
        "id": "Yyv1zGpYXDu3"
      },
      "source": [
        "#Answer -4\n",
        "import pandas as pd\n",
        "data=pd.read_csv(\"student_records. csv\")\n",
        "data.head()\n",
        "# it is showing error i.e it is showing no such directory found i tried many times"
      ],
      "execution_count": null,
      "outputs": []
    },
    {
      "cell_type": "code",
      "metadata": {
        "id": "YID_3jEDa1gy"
      },
      "source": [
        "#ANSWER -5\n",
        "data['cars'].describe()"
      ],
      "execution_count": null,
      "outputs": []
    },
    {
      "cell_type": "code",
      "metadata": {
        "id": "2OK3x-Z7e1L-"
      },
      "source": [
        "#ANSWER -6\n",
        "data['usa'].unique()"
      ],
      "execution_count": null,
      "outputs": []
    }
  ]
}