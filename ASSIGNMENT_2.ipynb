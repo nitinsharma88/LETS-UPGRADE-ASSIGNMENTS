{
  "nbformat": 4,
  "nbformat_minor": 0,
  "metadata": {
    "colab": {
      "name": "ASSIGNMENT 2.ipynb",
      "provenance": []
    },
    "kernelspec": {
      "name": "python3",
      "display_name": "Python 3"
    }
  },
  "cells": [
    {
      "cell_type": "code",
      "metadata": {
        "id": "W6ZJlKjoY4t5",
        "outputId": "77695109-2208-4947-b61d-436324ded617",
        "colab": {
          "base_uri": "https://localhost:8080/"
        }
      },
      "source": [
        "# answer -1\n",
        "lst = [] \n",
        "n = int(input(\"Enter number of elements : \"))  \n",
        "for i in range(0, n): \n",
        "    ele = int(input()) \n",
        "    if ele%2==0:\n",
        "     lst.append(ele)\n",
        "print(lst) \n",
        "\n"
      ],
      "execution_count": 7,
      "outputs": [
        {
          "output_type": "stream",
          "text": [
            "Enter number of elements : 10\n",
            "1\n",
            "2\n",
            "3\n",
            "4\n",
            "5\n",
            "6\n",
            "7\n",
            "8\n",
            "9\n",
            "10\n",
            "[2, 4, 6, 8, 10]\n"
          ],
          "name": "stdout"
        }
      ]
    },
    {
      "cell_type": "code",
      "metadata": {
        "id": "O5ksASAaeudq",
        "outputId": "a9490ec1-7637-43c8-d35a-189c7ca9b9f1",
        "colab": {
          "base_uri": "https://localhost:8080/"
        }
      },
      "source": [
        "# ANSWER -2\n",
        "numbers = [1, 2, 3, 4, 5]\n",
        "squares = [number**2 for number in numbers if number > 2]\n",
        "print(squares)"
      ],
      "execution_count": 9,
      "outputs": [
        {
          "output_type": "stream",
          "text": [
            "[9, 16, 25]\n"
          ],
          "name": "stdout"
        }
      ]
    },
    {
      "cell_type": "code",
      "metadata": {
        "id": "t4REpBrXgATR",
        "outputId": "e4a31120-b479-488b-d40a-5c63487eee38",
        "colab": {
          "base_uri": "https://localhost:8080/"
        }
      },
      "source": [
        "#ANSWER -3\n",
        "n=int(input())\n",
        "d=dict()\n",
        "for i in range(1, n+1): \n",
        "   d[i]=i*i\n",
        "print(d) \n",
        "    "
      ],
      "execution_count": 15,
      "outputs": [
        {
          "output_type": "stream",
          "text": [
            "4\n",
            "{1: 1, 2: 4, 3: 9, 4: 16}\n"
          ],
          "name": "stdout"
        }
      ]
    },
    {
      "cell_type": "code",
      "metadata": {
        "id": "-9pEOZnUpLeL",
        "outputId": "dbd5d99a-fe13-4da0-c5f9-4851ea1eb6f7",
        "colab": {
          "base_uri": "https://localhost:8080/"
        }
      },
      "source": [
        "# ANSWER -4 \n",
        "import math\n",
        "\n",
        "x, y = 0, 0\n",
        "\n",
        "while True:\n",
        "    step = input(\"Type in UP/DOWN/LEFT/RIGHT #step number: \")\n",
        "\n",
        "    if step == \"\":\n",
        "        break\n",
        "\n",
        "    else:\n",
        "        step = step.split(\" \")\n",
        "        if step[0] == \"UP\":\n",
        "            y = y + int(step[1])\n",
        "        elif step[0] == \"DOWN\":\n",
        "            y = y - int(step[1])\n",
        "        elif step[0] == \"LEFT\":\n",
        "            x = x - int(step[1])\n",
        "        elif step[0] == \"RIGHT\":\n",
        "            x = x + int(step[1])\n",
        "\n",
        "c = math.sqrt(x**2 + y**2)\n",
        "\n",
        "print(\"Distance:\", c)\n"
      ],
      "execution_count": 28,
      "outputs": [
        {
          "output_type": "stream",
          "text": [
            "Type in UP/DOWN/LEFT/RIGHT #step number: 2\n",
            "Type in UP/DOWN/LEFT/RIGHT #step number: 4\n",
            "Type in UP/DOWN/LEFT/RIGHT #step number: 5\n",
            "Type in UP/DOWN/LEFT/RIGHT #step number: 1\n",
            "Type in UP/DOWN/LEFT/RIGHT #step number: 6\n",
            "Type in UP/DOWN/LEFT/RIGHT #step number: 3\n",
            "Type in UP/DOWN/LEFT/RIGHT #step number: 8\n",
            "Type in UP/DOWN/LEFT/RIGHT #step number: 3\n",
            "Type in UP/DOWN/LEFT/RIGHT #step number: 5\n",
            "Type in UP/DOWN/LEFT/RIGHT #step number: 6\n",
            "Type in UP/DOWN/LEFT/RIGHT #step number: 8\n",
            "Type in UP/DOWN/LEFT/RIGHT #step number: 9\n",
            "Type in UP/DOWN/LEFT/RIGHT #step number: 5\n",
            "Type in UP/DOWN/LEFT/RIGHT #step number: 9\n",
            "Type in UP/DOWN/LEFT/RIGHT #step number: 8\n",
            "Type in UP/DOWN/LEFT/RIGHT #step number: 8\n",
            "Type in UP/DOWN/LEFT/RIGHT #step number: 6\n",
            "Type in UP/DOWN/LEFT/RIGHT #step number: ==\n",
            "Type in UP/DOWN/LEFT/RIGHT #step number: 5\n",
            "Type in UP/DOWN/LEFT/RIGHT #step number: 4\n",
            "Type in UP/DOWN/LEFT/RIGHT #step number: 34\n",
            "Type in UP/DOWN/LEFT/RIGHT #step number: 4\n",
            "Type in UP/DOWN/LEFT/RIGHT #step number: \n",
            "Distance: 0.0\n"
          ],
          "name": "stdout"
        }
      ]
    },
    {
      "cell_type": "code",
      "metadata": {
        "id": "cT0xF5tRqQge"
      },
      "source": [
        ""
      ],
      "execution_count": null,
      "outputs": []
    }
  ]
}